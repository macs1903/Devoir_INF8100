{
  "nbformat": 4,
  "nbformat_minor": 0,
  "metadata": {
    "colab": {
      "provenance": [],
      "authorship_tag": "ABX9TyMMRw56SzDYU0O9UVKKVImP",
      "include_colab_link": true
    },
    "kernelspec": {
      "name": "python3",
      "display_name": "Python 3"
    },
    "language_info": {
      "name": "python"
    }
  },
  "cells": [
    {
      "cell_type": "markdown",
      "metadata": {
        "id": "view-in-github",
        "colab_type": "text"
      },
      "source": [
        "<a href=\"https://colab.research.google.com/github/macs1903/Devoir_INF8100/blob/main/INF8100_TP1_partie2.ipynb\" target=\"_parent\"><img src=\"https://colab.research.google.com/assets/colab-badge.svg\" alt=\"Open In Colab\"/></a>"
      ]
    },
    {
      "cell_type": "code",
      "execution_count": 2,
      "metadata": {
        "id": "N7LPhPuxICtx"
      },
      "outputs": [],
      "source": [
        "import pandas as pd\n",
        "import numpy as np\n",
        "\n",
        "salaries = pd.read_csv(\"https://raw.githubusercontent.com/macs1903/Devoir_INF8100/main/salaires.csv\", encoding='latin-1')"
      ]
    },
    {
      "cell_type": "code",
      "source": [
        "salaries.info()"
      ],
      "metadata": {
        "colab": {
          "base_uri": "https://localhost:8080/"
        },
        "id": "FbKuLlHhIxms",
        "outputId": "28823192-637f-4006-903c-e3a335132461",
        "collapsed": true
      },
      "execution_count": 3,
      "outputs": [
        {
          "output_type": "stream",
          "name": "stdout",
          "text": [
            "<class 'pandas.core.frame.DataFrame'>\n",
            "RangeIndex: 32561 entries, 0 to 32560\n",
            "Data columns (total 12 columns):\n",
            " #   Column              Non-Null Count  Dtype \n",
            "---  ------              --------------  ----- \n",
            " 0   age                 32561 non-null  int64 \n",
            " 1   classe.travail      32561 non-null  object\n",
            " 2   education           32561 non-null  object\n",
            " 3   nombre.education    32561 non-null  int64 \n",
            " 4   etat.civil          32561 non-null  object\n",
            " 5   occupation          32561 non-null  object\n",
            " 6   Lien.parente        32561 non-null  object\n",
            " 7   race                32561 non-null  object\n",
            " 8   sexe                32561 non-null  object\n",
            " 9   heures.par.semaine  32561 non-null  int64 \n",
            " 10  pays.natal          32561 non-null  object\n",
            " 11  salaire             32561 non-null  object\n",
            "dtypes: int64(3), object(9)\n",
            "memory usage: 3.0+ MB\n"
          ]
        }
      ]
    },
    {
      "cell_type": "code",
      "source": [
        "len(salaries)"
      ],
      "metadata": {
        "colab": {
          "base_uri": "https://localhost:8080/"
        },
        "id": "rN-1YMjeJSRj",
        "outputId": "74616ba0-863e-4313-827a-30cf8d572371"
      },
      "execution_count": 3,
      "outputs": [
        {
          "output_type": "execute_result",
          "data": {
            "text/plain": [
              "32561"
            ]
          },
          "metadata": {},
          "execution_count": 3
        }
      ]
    },
    {
      "cell_type": "markdown",
      "source": [
        "#***Ici nous allons renommer les colonnes de notre dataset."
      ],
      "metadata": {
        "id": "0HiJ-_ZFisUy"
      }
    },
    {
      "cell_type": "code",
      "source": [
        "salaries.rename(columns={'classe.travail': 'classe_travail',\n",
        "                         'nombre.education': 'nombre_education',\n",
        "                         'etat.civil': 'etat_civil',\n",
        "                         'Lien.parente': 'lien_parente',\n",
        "                         'heures.par.semaine': 'heures_par_semaine',\n",
        "                         'pays.natal': 'pays_natal'},\n",
        "                inplace=True)"
      ],
      "metadata": {
        "id": "vqDd-Kl1iroz"
      },
      "execution_count": 4,
      "outputs": []
    },
    {
      "cell_type": "markdown",
      "source": [
        "# 2. Combien de valeurs manquantes y a-t-il pour chaque colonne ?\n",
        "\n",
        "La plupart de temps les valeurs manquantes sont representes par **NAs**, mais d'autrefois elles peuvent etre representés par d'autres caractères specifiques comme **?** ou une valeur beaucoup plus grande"
      ],
      "metadata": {
        "id": "DKJGqFD2d-pv"
      }
    },
    {
      "cell_type": "code",
      "source": [
        "salaries.replace('?', np.nan, inplace=True)"
      ],
      "metadata": {
        "id": "CDr-0WQQfNOr"
      },
      "execution_count": 5,
      "outputs": []
    },
    {
      "cell_type": "code",
      "source": [
        "salaries.isna().sum()"
      ],
      "metadata": {
        "colab": {
          "base_uri": "https://localhost:8080/"
        },
        "id": "3i9YqLupKOeo",
        "outputId": "8f4f541d-1616-4dad-b5c1-ce8226131ad7"
      },
      "execution_count": 6,
      "outputs": [
        {
          "output_type": "execute_result",
          "data": {
            "text/plain": [
              "age                      0\n",
              "classe_travail        1836\n",
              "education                0\n",
              "nombre_education         0\n",
              "etat_civil               0\n",
              "occupation            1843\n",
              "lien_parente             0\n",
              "race                     0\n",
              "sexe                     0\n",
              "heures_par_semaine       0\n",
              "pays_natal             583\n",
              "salaire                  0\n",
              "dtype: int64"
            ]
          },
          "metadata": {},
          "execution_count": 6
        }
      ]
    },
    {
      "cell_type": "markdown",
      "source": [
        "Les colonnes contenant des valeurs manquante sont:\n",
        "* classe.travail        1836\n",
        "* occupation            1843\n",
        "* pays.natal             583\n",
        "\n"
      ],
      "metadata": {
        "id": "yPZx00-xg5U4"
      }
    },
    {
      "cell_type": "markdown",
      "source": [
        "Quelle est la colonne (feature) qui a le plus de valeurs manquantes ?\n",
        "\n",
        "la colonne de **1843**"
      ],
      "metadata": {
        "id": "L1fY0zfVgiwo"
      }
    },
    {
      "cell_type": "markdown",
      "source": [
        "#3. Combien d’hommes y a-t-il dans ce jeu de données ?"
      ],
      "metadata": {
        "id": "52ErKL4zRKCJ"
      }
    },
    {
      "cell_type": "code",
      "source": [
        "#salaries.loc[salaries['sexe']=='Masculin',].value_counts()\n",
        "nbHomme = salaries['sexe'].value_counts()['Masculin']\n",
        "print(\"Le nombre total d'homme est de : \", nbHomme)"
      ],
      "metadata": {
        "colab": {
          "base_uri": "https://localhost:8080/"
        },
        "id": "MFwzKvSLKmLZ",
        "outputId": "e3b45660-b4b8-48a2-84fa-d4ad0cbe3677"
      },
      "execution_count": 7,
      "outputs": [
        {
          "output_type": "stream",
          "name": "stdout",
          "text": [
            "Le nombre total d'homme est de :  21790\n"
          ]
        }
      ]
    },
    {
      "cell_type": "markdown",
      "source": [
        "# 4. Quel est l’âge le plus élevé et le plus bas de ce jeu de données ?"
      ],
      "metadata": {
        "id": "BrkXGLVPRTJg"
      }
    },
    {
      "cell_type": "code",
      "source": [
        "ageMin = salaries['age'].min()\n",
        "ageMax = salaries['age'].max()\n",
        "\n",
        "print(\"L'âge le plus bas est : \", ageMin)\n",
        "print(\"L'âge le plus élévé est : \", ageMax)"
      ],
      "metadata": {
        "colab": {
          "base_uri": "https://localhost:8080/"
        },
        "id": "UajwObFhMwuN",
        "outputId": "74f151d4-e45e-458d-dafa-7ff3046cb230"
      },
      "execution_count": 8,
      "outputs": [
        {
          "output_type": "stream",
          "name": "stdout",
          "text": [
            "L'âge le plus bas est :  17\n",
            "L'âge le plus élévé est :  90\n"
          ]
        }
      ]
    },
    {
      "cell_type": "markdown",
      "source": [
        "# 5. Combien de femmes travaillent dans le secteur privé?"
      ],
      "metadata": {
        "id": "MNm_HM1aRgyY"
      }
    },
    {
      "cell_type": "code",
      "source": [
        "femmeSecPrive = salaries.loc[(salaries['sexe']=='Feminin') & (salaries['classe_travail']=='Privee'), ]\n",
        "salaries.groupby('classe_travail')['sexe'].value_counts()['Privee']"
      ],
      "metadata": {
        "colab": {
          "base_uri": "https://localhost:8080/"
        },
        "id": "exlPCK_kS3uU",
        "outputId": "d85dee84-3d45-4836-f524-34ed9122df79"
      },
      "execution_count": 9,
      "outputs": [
        {
          "output_type": "execute_result",
          "data": {
            "text/plain": [
              "sexe\n",
              "Masculin    14944\n",
              "Feminin      7752\n",
              "Name: sexe, dtype: int64"
            ]
          },
          "metadata": {},
          "execution_count": 9
        }
      ]
    },
    {
      "cell_type": "markdown",
      "source": [
        "# 6. Quelle est la liste des différents pays représentés dans la colonne représentant le pays natal/d’origine de chaque personne de notre jeu de données?"
      ],
      "metadata": {
        "id": "TkAL9MaZR22f"
      }
    },
    {
      "cell_type": "code",
      "source": [
        "paysNatal = salaries['pays_natal'].dropna()\n",
        "list(paysNatal.unique())"
      ],
      "metadata": {
        "colab": {
          "base_uri": "https://localhost:8080/"
        },
        "id": "Huv_XNCgRnWP",
        "outputId": "62f5372b-06b2-46fc-86b5-a77b16e400d9"
      },
      "execution_count": 11,
      "outputs": [
        {
          "output_type": "execute_result",
          "data": {
            "text/plain": [
              "['United-States',\n",
              " 'Mexico',\n",
              " 'Greece',\n",
              " 'Vietnam',\n",
              " 'China',\n",
              " 'Taiwan',\n",
              " 'India',\n",
              " 'Philippines',\n",
              " 'Trinadad&Tobago',\n",
              " 'Canada',\n",
              " 'South',\n",
              " 'Holand-Netherlands',\n",
              " 'Puerto-Rico',\n",
              " 'Poland',\n",
              " 'Iran',\n",
              " 'England',\n",
              " 'Germany',\n",
              " 'Italy',\n",
              " 'Japan',\n",
              " 'Hong',\n",
              " 'Honduras',\n",
              " 'Cuba',\n",
              " 'Ireland',\n",
              " 'Cambodia',\n",
              " 'Peru',\n",
              " 'Nicaragua',\n",
              " 'Dominican-Republic',\n",
              " 'Haiti',\n",
              " 'El-Salvador',\n",
              " 'Hungary',\n",
              " 'Columbia',\n",
              " 'Guatemala',\n",
              " 'Jamaica',\n",
              " 'Ecuador',\n",
              " 'France',\n",
              " 'Yugoslavia',\n",
              " 'Scotland',\n",
              " 'Portugal',\n",
              " 'Laos',\n",
              " 'Thailand',\n",
              " 'Outlying-US(Guam-USVI-etc)']"
            ]
          },
          "metadata": {},
          "execution_count": 11
        }
      ]
    },
    {
      "cell_type": "markdown",
      "source": [
        "# 6.3 Algèbre linéaire (6pts)\n",
        "Pour les questions de cette partie, nous allons uniquement travailler avec une petite partie des données : les femmes du jeu de données. Nous allons garder le 1/10 des données pour les tests.\n"
      ],
      "metadata": {
        "id": "9UyBVVabqgsw"
      }
    },
    {
      "cell_type": "code",
      "source": [],
      "metadata": {
        "id": "WkoIO2z3SFvQ"
      },
      "execution_count": 11,
      "outputs": []
    },
    {
      "cell_type": "markdown",
      "source": [
        "#6.4 Analyses statistiques et probabilistes (12pts)"
      ],
      "metadata": {
        "id": "AbJO7f--cg9s"
      }
    },
    {
      "cell_type": "markdown",
      "source": [
        "0. On va convertir le revenu(salaire) en entier."
      ],
      "metadata": {
        "id": "pGL9H3S-X0AZ"
      }
    },
    {
      "cell_type": "markdown",
      "source": [
        "1. Quelle est la moyenne des âges ? Quelle est la moyenne du nombre d’heures travaillées par semaine ? et les valeurs médianes ?"
      ],
      "metadata": {
        "id": "2TWuX-cmcpXV"
      }
    },
    {
      "cell_type": "code",
      "source": [
        "salaries['salaire'].replace('<=50K', 40000, inplace=True)\n",
        "salaries['salaire'].replace('>50K', 60000, inplace=True)"
      ],
      "metadata": {
        "id": "LmCEdEu2bnJb"
      },
      "execution_count": 12,
      "outputs": []
    },
    {
      "cell_type": "code",
      "source": [
        "# 1. Moyennes et médianes des âges et des heures de travail\n",
        "mean_age = salaries['age'].mean()\n",
        "median_age = salaries['age'].median()\n",
        "mean_hours_per_week = salaries['heures_par_semaine'].mean()\n",
        "median_hours_per_week = salaries['heures_par_semaine'].median()\n",
        "print(\"1. Moyenne des âges :\", mean_age)\n",
        "print(\"   Médiane des âges :\", median_age)\n",
        "print(\"   Moyenne des heures travaillées par semaine :\", mean_hours_per_week)\n",
        "print(\"   Médiane des heures travaillées par semaine :\", median_hours_per_week)\n",
        "\n",
        "# 2. Âges les plus représentatifs\n",
        "most_representative_ages = salaries['age'].value_counts().head(5)\n",
        "print(\"\\n2. Âges les plus représentatifs :\")\n",
        "print(most_representative_ages)\n",
        "\n",
        "# 3. Variance des heures de travail et des âges\n",
        "variance_hours_per_week = salaries['heures_par_semaine'].var()\n",
        "variance_age = salaries['age'].var()\n",
        "print(\"\\n3. Variance des heures travaillées par semaine :\", variance_hours_per_week)\n",
        "print(\"   Variance des âges :\", variance_age)\n",
        "\n",
        "# 4. Impact de l'éducation vs. âge sur le salaire\n",
        "education_vs_age_salary = salaries.groupby(['education', 'age'])['salaire'].mean()\n",
        "print(\"\\n4. Impact de l'éducation vs. âge sur le salaire :\")\n",
        "print(education_vs_age_salary)\n",
        "\n",
        "# 5. Impact de l'éducation vs. heures de travail sur le salaire\n",
        "education_vs_hours_per_week_salary = salaries.groupby(['education', 'heures_par_semaine'])['salaire'].mean()\n",
        "print(\"\\n5. Impact de l'éducation vs. heures de travail sur le salaire :\")\n",
        "print(education_vs_hours_per_week_salary)\n",
        "\n",
        "# 6. Impact de l'âge sur le salaire\n",
        "average_age_below_50k = salaries[salaries['salaire'] == '<= 50K']['age'].mean()\n",
        "average_age_above_50k = salaries[salaries['salaire'] == '> 50K']['age'].mean()\n",
        "print(\"\\n6. Impact de l'âge sur le salaire :\")\n",
        "print(\"   Âge moyen pour <= 50K :\", average_age_below_50k)\n",
        "print(\"   Âge moyen pour > 50K :\", average_age_above_50k)\n",
        "\n",
        "# 7. Impact des heures de travail sur le salaire\n",
        "average_hours_below_50k = salaries[salaries['salaire'] == '<= 50K']['heures_par_semaine'].mean()\n",
        "average_hours_above_50k = salaries[salaries['salaire'] == '> 50K']['heures_par_semaine'].mean()\n",
        "print(\"\\n7. Impact des heures de travail sur le salaire :\")\n",
        "print(\"   Heures moyennes pour <= 50K :\", average_hours_below_50k)\n",
        "print(\"   Heures moyennes pour > 50K :\", average_hours_above_50k)\n",
        "\n",
        "# 8. Différence de salaire entre personnes mariées et célibataires\n",
        "marital_status_salary = salaries.groupby(['etat_civil'])['salaire'].mean()\n",
        "print(\"\\n8. Différence de salaire entre personnes mariées et célibataires :\")\n",
        "print(marital_status_salary)\n",
        "\n",
        "# 9. Proportion des hommes et des femmes ayant un doctorat et gagnant plus de 50k\n",
        "proportion_doctorate_men = salaries[(salaries['sexe'] == 'Masculin') & (salaries['education'] == 'Doctorat') & (salaries['salaire'] == '> 50K')].shape[0] / num_men\n",
        "proportion_doctorate_women = salaries[(salaries['sexe'] == 'Feminin') & (salaries['education'] == 'Doctorat') & (salaries['salaire'] == '> 50K')].shape[0] / (salaries['sexe'] == 'Feminin').sum()\n",
        "print(\"\\n9. Proportion des hommes avec un doctorat gagnant > 50K :\", proportion_doctorate_men)\n",
        "print(\"   Proportion des femmes avec un doctorat gagnant > 50K :\", proportion_doctorate_women)\n",
        "\n",
        "# 10. Proportion des femmes mariées sans master ni doctorat\n",
        "#proportion_married_women_without_masters_or_doctorate = data[(data['sexe'] == 'feminin') & (data['etat_civil'] == 'Married-civ-spouse') & (data['Education'] != 'Masters') & (data['Education'] != 'Doctorate')].shape[0] / (data[(data['Sexe'] == 'Female') & (data['Etat civil'] == 'Married-civ-spouse')].shape[0]\n",
        "#print(\"\\n10. Proportion des femmes mariées sans master ni doctorat :\", proportion_married_women_without_masters_or_doctorate)\n",
        "\n",
        "# 11. Pays avec les salaires les plus élevés\n",
        "#highest_earning_country = data[data['Revenu'] == '> 50K']['Pays d'origine'].value_counts().idxmax()\n",
        "#print(\"\\n11. Pays avec les salaires les plus élevés :\", highest_earning_country)\n"
      ],
      "metadata": {
        "id": "_KwZJFsAcjXj",
        "colab": {
          "base_uri": "https://localhost:8080/",
          "height": 1000
        },
        "outputId": "c26a984c-9a91-4040-8b02-2aa8bd1160e6"
      },
      "execution_count": 13,
      "outputs": [
        {
          "output_type": "stream",
          "name": "stdout",
          "text": [
            "1. Moyenne des âges : 38.58164675532078\n",
            "   Médiane des âges : 37.0\n",
            "   Moyenne des heures travaillées par semaine : 40.437455852092995\n",
            "   Médiane des heures travaillées par semaine : 40.0\n",
            "\n",
            "2. Âges les plus représentatifs :\n",
            "36    898\n",
            "31    888\n",
            "34    886\n",
            "23    877\n",
            "35    876\n",
            "Name: age, dtype: int64\n",
            "\n",
            "3. Variance des heures travaillées par semaine : 152.45899505045415\n",
            "   Variance des âges : 186.06140024880162\n",
            "\n",
            "4. Impact de l'éducation vs. âge sur le salaire :\n",
            "education     age\n",
            "10th          17     40000.0\n",
            "              18     40000.0\n",
            "              19     40000.0\n",
            "              20     40000.0\n",
            "              21     40000.0\n",
            "                      ...   \n",
            "Some-college  81     40000.0\n",
            "              82     40000.0\n",
            "              84     60000.0\n",
            "              88     40000.0\n",
            "              90     40000.0\n",
            "Name: salaire, Length: 965, dtype: float64\n",
            "\n",
            "5. Impact de l'éducation vs. heures de travail sur le salaire :\n",
            "education     heures_par_semaine\n",
            "10th          1                     40000.000000\n",
            "              2                     40000.000000\n",
            "              3                     40000.000000\n",
            "              4                     40000.000000\n",
            "              5                     40000.000000\n",
            "                                        ...     \n",
            "Some-college  91                    40000.000000\n",
            "              92                    40000.000000\n",
            "              95                    60000.000000\n",
            "              98                    50000.000000\n",
            "              99                    48571.428571\n",
            "Name: salaire, Length: 863, dtype: float64\n",
            "\n",
            "6. Impact de l'âge sur le salaire :\n",
            "   Âge moyen pour <= 50K : nan\n",
            "   Âge moyen pour > 50K : nan\n",
            "\n",
            "7. Impact des heures de travail sur le salaire :\n",
            "   Heures moyennes pour <= 50K : nan\n",
            "   Heures moyennes pour > 50K : nan\n",
            "\n",
            "8. Différence de salaire entre personnes mariées et célibataires :\n",
            "etat_civil\n",
            "Conjoit_fait          48695.652174\n",
            "Divorce               42084.177358\n",
            "Jamais_marie          40919.217448\n",
            "Marie_civil           48936.965812\n",
            "Marie_epoux_absent    41626.794258\n",
            "Separe                41287.804878\n",
            "Veuf                  41711.983887\n",
            "Name: salaire, dtype: float64\n"
          ]
        },
        {
          "output_type": "error",
          "ename": "NameError",
          "evalue": "ignored",
          "traceback": [
            "\u001b[0;31m---------------------------------------------------------------------------\u001b[0m",
            "\u001b[0;31mNameError\u001b[0m                                 Traceback (most recent call last)",
            "\u001b[0;32m<ipython-input-13-e0846c39cf61>\u001b[0m in \u001b[0;36m<cell line: 52>\u001b[0;34m()\u001b[0m\n\u001b[1;32m     50\u001b[0m \u001b[0;34m\u001b[0m\u001b[0m\n\u001b[1;32m     51\u001b[0m \u001b[0;31m# 9. Proportion des hommes et des femmes ayant un doctorat et gagnant plus de 50k\u001b[0m\u001b[0;34m\u001b[0m\u001b[0;34m\u001b[0m\u001b[0m\n\u001b[0;32m---> 52\u001b[0;31m \u001b[0mproportion_doctorate_men\u001b[0m \u001b[0;34m=\u001b[0m \u001b[0msalaries\u001b[0m\u001b[0;34m[\u001b[0m\u001b[0;34m(\u001b[0m\u001b[0msalaries\u001b[0m\u001b[0;34m[\u001b[0m\u001b[0;34m'sexe'\u001b[0m\u001b[0;34m]\u001b[0m \u001b[0;34m==\u001b[0m \u001b[0;34m'Masculin'\u001b[0m\u001b[0;34m)\u001b[0m \u001b[0;34m&\u001b[0m \u001b[0;34m(\u001b[0m\u001b[0msalaries\u001b[0m\u001b[0;34m[\u001b[0m\u001b[0;34m'education'\u001b[0m\u001b[0;34m]\u001b[0m \u001b[0;34m==\u001b[0m \u001b[0;34m'Doctorat'\u001b[0m\u001b[0;34m)\u001b[0m \u001b[0;34m&\u001b[0m \u001b[0;34m(\u001b[0m\u001b[0msalaries\u001b[0m\u001b[0;34m[\u001b[0m\u001b[0;34m'salaire'\u001b[0m\u001b[0;34m]\u001b[0m \u001b[0;34m==\u001b[0m \u001b[0;34m'> 50K'\u001b[0m\u001b[0;34m)\u001b[0m\u001b[0;34m]\u001b[0m\u001b[0;34m.\u001b[0m\u001b[0mshape\u001b[0m\u001b[0;34m[\u001b[0m\u001b[0;36m0\u001b[0m\u001b[0;34m]\u001b[0m \u001b[0;34m/\u001b[0m \u001b[0mnum_men\u001b[0m\u001b[0;34m\u001b[0m\u001b[0;34m\u001b[0m\u001b[0m\n\u001b[0m\u001b[1;32m     53\u001b[0m \u001b[0mproportion_doctorate_women\u001b[0m \u001b[0;34m=\u001b[0m \u001b[0msalaries\u001b[0m\u001b[0;34m[\u001b[0m\u001b[0;34m(\u001b[0m\u001b[0msalaries\u001b[0m\u001b[0;34m[\u001b[0m\u001b[0;34m'sexe'\u001b[0m\u001b[0;34m]\u001b[0m \u001b[0;34m==\u001b[0m \u001b[0;34m'Feminin'\u001b[0m\u001b[0;34m)\u001b[0m \u001b[0;34m&\u001b[0m \u001b[0;34m(\u001b[0m\u001b[0msalaries\u001b[0m\u001b[0;34m[\u001b[0m\u001b[0;34m'education'\u001b[0m\u001b[0;34m]\u001b[0m \u001b[0;34m==\u001b[0m \u001b[0;34m'Doctorat'\u001b[0m\u001b[0;34m)\u001b[0m \u001b[0;34m&\u001b[0m \u001b[0;34m(\u001b[0m\u001b[0msalaries\u001b[0m\u001b[0;34m[\u001b[0m\u001b[0;34m'salaire'\u001b[0m\u001b[0;34m]\u001b[0m \u001b[0;34m==\u001b[0m \u001b[0;34m'> 50K'\u001b[0m\u001b[0;34m)\u001b[0m\u001b[0;34m]\u001b[0m\u001b[0;34m.\u001b[0m\u001b[0mshape\u001b[0m\u001b[0;34m[\u001b[0m\u001b[0;36m0\u001b[0m\u001b[0;34m]\u001b[0m \u001b[0;34m/\u001b[0m \u001b[0;34m(\u001b[0m\u001b[0msalaries\u001b[0m\u001b[0;34m[\u001b[0m\u001b[0;34m'sexe'\u001b[0m\u001b[0;34m]\u001b[0m \u001b[0;34m==\u001b[0m \u001b[0;34m'Feminin'\u001b[0m\u001b[0;34m)\u001b[0m\u001b[0;34m.\u001b[0m\u001b[0msum\u001b[0m\u001b[0;34m(\u001b[0m\u001b[0;34m)\u001b[0m\u001b[0;34m\u001b[0m\u001b[0;34m\u001b[0m\u001b[0m\n\u001b[1;32m     54\u001b[0m \u001b[0mprint\u001b[0m\u001b[0;34m(\u001b[0m\u001b[0;34m\"\\n9. Proportion des hommes avec un doctorat gagnant > 50K :\"\u001b[0m\u001b[0;34m,\u001b[0m \u001b[0mproportion_doctorate_men\u001b[0m\u001b[0;34m)\u001b[0m\u001b[0;34m\u001b[0m\u001b[0;34m\u001b[0m\u001b[0m\n",
            "\u001b[0;31mNameError\u001b[0m: name 'num_men' is not defined"
          ]
        }
      ]
    },
    {
      "cell_type": "code",
      "source": [],
      "metadata": {
        "id": "IilpBSlsMLJC"
      },
      "execution_count": 13,
      "outputs": []
    }
  ]
}